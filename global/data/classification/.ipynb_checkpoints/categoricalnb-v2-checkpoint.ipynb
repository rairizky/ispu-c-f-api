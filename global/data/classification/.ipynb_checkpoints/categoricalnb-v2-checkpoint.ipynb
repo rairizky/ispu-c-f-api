{
 "cells": [
  {
   "cell_type": "code",
   "execution_count": 1,
   "id": "591367bf",
   "metadata": {},
   "outputs": [],
   "source": [
    "import pandas as pd"
   ]
  },
  {
   "cell_type": "markdown",
   "id": "b76e5415",
   "metadata": {
    "tags": []
   },
   "source": [
    "### DATA PROCESSING"
   ]
  },
  {
   "cell_type": "markdown",
   "id": "762dfbc4",
   "metadata": {},
   "source": [
    "IMPORT CSV DATA"
   ]
  },
  {
   "cell_type": "code",
   "execution_count": 2,
   "id": "a407f1a8",
   "metadata": {},
   "outputs": [],
   "source": [
    "df = pd.read_excel(\"ispu-2010-2021.xlsx\")"
   ]
  },
  {
   "cell_type": "markdown",
   "id": "074754f5",
   "metadata": {},
   "source": [
    "HILANGKAN KOLOM YANG TIDAK DIGUNAKAN"
   ]
  },
  {
   "cell_type": "code",
   "execution_count": 3,
   "id": "ef4ea6ff",
   "metadata": {
    "scrolled": true
   },
   "outputs": [
    {
     "data": {
      "text/html": [
       "<div>\n",
       "<style scoped>\n",
       "    .dataframe tbody tr th:only-of-type {\n",
       "        vertical-align: middle;\n",
       "    }\n",
       "\n",
       "    .dataframe tbody tr th {\n",
       "        vertical-align: top;\n",
       "    }\n",
       "\n",
       "    .dataframe thead th {\n",
       "        text-align: right;\n",
       "    }\n",
       "</style>\n",
       "<table border=\"1\" class=\"dataframe\">\n",
       "  <thead>\n",
       "    <tr style=\"text-align: right;\">\n",
       "      <th></th>\n",
       "      <th>pm10</th>\n",
       "      <th>pm25</th>\n",
       "      <th>so2</th>\n",
       "      <th>co</th>\n",
       "      <th>o3</th>\n",
       "      <th>no2</th>\n",
       "      <th>max</th>\n",
       "      <th>categori</th>\n",
       "    </tr>\n",
       "  </thead>\n",
       "  <tbody>\n",
       "    <tr>\n",
       "      <th>0</th>\n",
       "      <td>60.0</td>\n",
       "      <td>53.0</td>\n",
       "      <td>4.0</td>\n",
       "      <td>73.0</td>\n",
       "      <td>27.0</td>\n",
       "      <td>14.0</td>\n",
       "      <td>73.0</td>\n",
       "      <td>SEDANG</td>\n",
       "    </tr>\n",
       "    <tr>\n",
       "      <th>1</th>\n",
       "      <td>32.0</td>\n",
       "      <td>25.0</td>\n",
       "      <td>2.0</td>\n",
       "      <td>16.0</td>\n",
       "      <td>33.0</td>\n",
       "      <td>9.0</td>\n",
       "      <td>33.0</td>\n",
       "      <td>BAIK</td>\n",
       "    </tr>\n",
       "    <tr>\n",
       "      <th>2</th>\n",
       "      <td>27.0</td>\n",
       "      <td>18.0</td>\n",
       "      <td>2.0</td>\n",
       "      <td>19.0</td>\n",
       "      <td>20.0</td>\n",
       "      <td>9.0</td>\n",
       "      <td>27.0</td>\n",
       "      <td>BAIK</td>\n",
       "    </tr>\n",
       "    <tr>\n",
       "      <th>3</th>\n",
       "      <td>22.0</td>\n",
       "      <td>17.0</td>\n",
       "      <td>2.0</td>\n",
       "      <td>16.0</td>\n",
       "      <td>15.0</td>\n",
       "      <td>6.0</td>\n",
       "      <td>22.0</td>\n",
       "      <td>BAIK</td>\n",
       "    </tr>\n",
       "    <tr>\n",
       "      <th>4</th>\n",
       "      <td>25.0</td>\n",
       "      <td>17.0</td>\n",
       "      <td>2.0</td>\n",
       "      <td>17.0</td>\n",
       "      <td>15.0</td>\n",
       "      <td>8.0</td>\n",
       "      <td>25.0</td>\n",
       "      <td>BAIK</td>\n",
       "    </tr>\n",
       "  </tbody>\n",
       "</table>\n",
       "</div>"
      ],
      "text/plain": [
       "   pm10  pm25  so2    co    o3   no2   max categori\n",
       "0  60.0  53.0  4.0  73.0  27.0  14.0  73.0   SEDANG\n",
       "1  32.0  25.0  2.0  16.0  33.0   9.0  33.0     BAIK\n",
       "2  27.0  18.0  2.0  19.0  20.0   9.0  27.0     BAIK\n",
       "3  22.0  17.0  2.0  16.0  15.0   6.0  22.0     BAIK\n",
       "4  25.0  17.0  2.0  17.0  15.0   8.0  25.0     BAIK"
      ]
     },
     "execution_count": 3,
     "metadata": {},
     "output_type": "execute_result"
    }
   ],
   "source": [
    "df_used  = df[[\"pm10\", \"pm25\", \"so2\", \"co\", \"o3\", \"no2\", \"max\", \"categori\"]]\n",
    "df_used.head()"
   ]
  },
  {
   "cell_type": "markdown",
   "id": "dbf0adb1",
   "metadata": {},
   "source": [
    "CEK APAKAH ADA DATA KOSONG"
   ]
  },
  {
   "cell_type": "code",
   "execution_count": 4,
   "id": "b8d93e8f",
   "metadata": {},
   "outputs": [
    {
     "data": {
      "text/plain": [
       "True"
      ]
     },
     "execution_count": 4,
     "metadata": {},
     "output_type": "execute_result"
    }
   ],
   "source": [
    "df_used.isna().values.any()"
   ]
  },
  {
   "cell_type": "code",
   "execution_count": 5,
   "id": "7c91b5b1",
   "metadata": {},
   "outputs": [
    {
     "name": "stderr",
     "output_type": "stream",
     "text": [
      "C:\\Users\\rairi\\AppData\\Local\\Temp\\ipykernel_43956\\482707727.py:2: SettingWithCopyWarning: \n",
      "A value is trying to be set on a copy of a slice from a DataFrame\n",
      "\n",
      "See the caveats in the documentation: https://pandas.pydata.org/pandas-docs/stable/user_guide/indexing.html#returning-a-view-versus-a-copy\n",
      "  df_used.dropna(inplace = True)\n"
     ]
    },
    {
     "data": {
      "text/plain": [
       "False"
      ]
     },
     "execution_count": 5,
     "metadata": {},
     "output_type": "execute_result"
    }
   ],
   "source": [
    "#hilangkan data kosong untuk data train\n",
    "df_used.dropna(inplace = True)\n",
    "\n",
    "#cek ulang apakah ada data kosong\n",
    "df_used.isna().values.any()"
   ]
  },
  {
   "cell_type": "markdown",
   "id": "5d001314",
   "metadata": {},
   "source": [
    "CEK APAKAH ADA DATA DUPLIKAT"
   ]
  },
  {
   "cell_type": "code",
   "execution_count": 6,
   "id": "dee50e25",
   "metadata": {},
   "outputs": [
    {
     "data": {
      "text/plain": [
       "True"
      ]
     },
     "execution_count": 6,
     "metadata": {},
     "output_type": "execute_result"
    }
   ],
   "source": [
    "df_used.duplicated().values.any()"
   ]
  },
  {
   "cell_type": "markdown",
   "id": "377212ef",
   "metadata": {},
   "source": [
    "INFORMASI DATA"
   ]
  },
  {
   "cell_type": "code",
   "execution_count": 7,
   "id": "1606369a",
   "metadata": {},
   "outputs": [
    {
     "name": "stdout",
     "output_type": "stream",
     "text": [
      "<class 'pandas.core.frame.DataFrame'>\n",
      "Index: 8838 entries, 0 to 10114\n",
      "Data columns (total 8 columns):\n",
      " #   Column    Non-Null Count  Dtype  \n",
      "---  ------    --------------  -----  \n",
      " 0   pm10      8838 non-null   float64\n",
      " 1   pm25      8838 non-null   float64\n",
      " 2   so2       8838 non-null   float64\n",
      " 3   co        8838 non-null   float64\n",
      " 4   o3        8838 non-null   float64\n",
      " 5   no2       8838 non-null   float64\n",
      " 6   max       8838 non-null   float64\n",
      " 7   categori  8838 non-null   object \n",
      "dtypes: float64(7), object(1)\n",
      "memory usage: 621.4+ KB\n"
     ]
    }
   ],
   "source": [
    "df_used.info()"
   ]
  },
  {
   "cell_type": "code",
   "execution_count": 8,
   "id": "31d997d2",
   "metadata": {},
   "outputs": [
    {
     "data": {
      "text/html": [
       "<div>\n",
       "<style scoped>\n",
       "    .dataframe tbody tr th:only-of-type {\n",
       "        vertical-align: middle;\n",
       "    }\n",
       "\n",
       "    .dataframe tbody tr th {\n",
       "        vertical-align: top;\n",
       "    }\n",
       "\n",
       "    .dataframe thead th {\n",
       "        text-align: right;\n",
       "    }\n",
       "</style>\n",
       "<table border=\"1\" class=\"dataframe\">\n",
       "  <thead>\n",
       "    <tr style=\"text-align: right;\">\n",
       "      <th></th>\n",
       "      <th>pm10</th>\n",
       "      <th>pm25</th>\n",
       "      <th>so2</th>\n",
       "      <th>co</th>\n",
       "      <th>o3</th>\n",
       "      <th>no2</th>\n",
       "      <th>max</th>\n",
       "    </tr>\n",
       "  </thead>\n",
       "  <tbody>\n",
       "    <tr>\n",
       "      <th>count</th>\n",
       "      <td>8838.000000</td>\n",
       "      <td>8838.000000</td>\n",
       "      <td>8838.000000</td>\n",
       "      <td>8838.000000</td>\n",
       "      <td>8838.000000</td>\n",
       "      <td>8838.000000</td>\n",
       "      <td>8838.000000</td>\n",
       "    </tr>\n",
       "    <tr>\n",
       "      <th>mean</th>\n",
       "      <td>53.383910</td>\n",
       "      <td>41.322471</td>\n",
       "      <td>17.954967</td>\n",
       "      <td>21.448405</td>\n",
       "      <td>65.774949</td>\n",
       "      <td>13.647205</td>\n",
       "      <td>78.475107</td>\n",
       "    </tr>\n",
       "    <tr>\n",
       "      <th>std</th>\n",
       "      <td>19.391683</td>\n",
       "      <td>22.357251</td>\n",
       "      <td>14.338304</td>\n",
       "      <td>12.434734</td>\n",
       "      <td>40.187409</td>\n",
       "      <td>7.355165</td>\n",
       "      <td>35.252512</td>\n",
       "    </tr>\n",
       "    <tr>\n",
       "      <th>min</th>\n",
       "      <td>2.000000</td>\n",
       "      <td>11.000000</td>\n",
       "      <td>0.000000</td>\n",
       "      <td>1.000000</td>\n",
       "      <td>3.000000</td>\n",
       "      <td>1.000000</td>\n",
       "      <td>16.000000</td>\n",
       "    </tr>\n",
       "    <tr>\n",
       "      <th>25%</th>\n",
       "      <td>41.000000</td>\n",
       "      <td>25.000000</td>\n",
       "      <td>6.000000</td>\n",
       "      <td>12.000000</td>\n",
       "      <td>36.000000</td>\n",
       "      <td>8.000000</td>\n",
       "      <td>56.000000</td>\n",
       "    </tr>\n",
       "    <tr>\n",
       "      <th>50%</th>\n",
       "      <td>55.000000</td>\n",
       "      <td>34.000000</td>\n",
       "      <td>14.000000</td>\n",
       "      <td>19.000000</td>\n",
       "      <td>60.000000</td>\n",
       "      <td>13.000000</td>\n",
       "      <td>73.000000</td>\n",
       "    </tr>\n",
       "    <tr>\n",
       "      <th>75%</th>\n",
       "      <td>65.000000</td>\n",
       "      <td>50.000000</td>\n",
       "      <td>27.000000</td>\n",
       "      <td>28.000000</td>\n",
       "      <td>84.000000</td>\n",
       "      <td>18.000000</td>\n",
       "      <td>92.000000</td>\n",
       "    </tr>\n",
       "    <tr>\n",
       "      <th>max</th>\n",
       "      <td>179.000000</td>\n",
       "      <td>174.000000</td>\n",
       "      <td>82.000000</td>\n",
       "      <td>134.000000</td>\n",
       "      <td>314.000000</td>\n",
       "      <td>65.000000</td>\n",
       "      <td>314.000000</td>\n",
       "    </tr>\n",
       "  </tbody>\n",
       "</table>\n",
       "</div>"
      ],
      "text/plain": [
       "              pm10         pm25          so2           co           o3  \\\n",
       "count  8838.000000  8838.000000  8838.000000  8838.000000  8838.000000   \n",
       "mean     53.383910    41.322471    17.954967    21.448405    65.774949   \n",
       "std      19.391683    22.357251    14.338304    12.434734    40.187409   \n",
       "min       2.000000    11.000000     0.000000     1.000000     3.000000   \n",
       "25%      41.000000    25.000000     6.000000    12.000000    36.000000   \n",
       "50%      55.000000    34.000000    14.000000    19.000000    60.000000   \n",
       "75%      65.000000    50.000000    27.000000    28.000000    84.000000   \n",
       "max     179.000000   174.000000    82.000000   134.000000   314.000000   \n",
       "\n",
       "               no2          max  \n",
       "count  8838.000000  8838.000000  \n",
       "mean     13.647205    78.475107  \n",
       "std       7.355165    35.252512  \n",
       "min       1.000000    16.000000  \n",
       "25%       8.000000    56.000000  \n",
       "50%      13.000000    73.000000  \n",
       "75%      18.000000    92.000000  \n",
       "max      65.000000   314.000000  "
      ]
     },
     "execution_count": 8,
     "metadata": {},
     "output_type": "execute_result"
    }
   ],
   "source": [
    "df_used.describe()"
   ]
  },
  {
   "cell_type": "code",
   "execution_count": 9,
   "id": "2ea78e1d",
   "metadata": {},
   "outputs": [
    {
     "data": {
      "text/plain": [
       "array(['SEDANG', 'BAIK', 'TIDAK SEHAT', 'SANGAT TIDAK SEHAT', 'BERBAHAYA'],\n",
       "      dtype=object)"
      ]
     },
     "execution_count": 9,
     "metadata": {},
     "output_type": "execute_result"
    }
   ],
   "source": [
    "df_used[\"categori\"].unique()"
   ]
  },
  {
   "cell_type": "code",
   "execution_count": 10,
   "id": "62feafd5",
   "metadata": {},
   "outputs": [
    {
     "data": {
      "text/plain": [
       "categori\n",
       "SEDANG                5872\n",
       "BAIK                  1426\n",
       "TIDAK SEHAT           1386\n",
       "SANGAT TIDAK SEHAT     153\n",
       "BERBAHAYA                1\n",
       "Name: count, dtype: int64"
      ]
     },
     "execution_count": 10,
     "metadata": {},
     "output_type": "execute_result"
    }
   ],
   "source": [
    "df_used[\"categori\"].value_counts()"
   ]
  },
  {
   "cell_type": "markdown",
   "id": "d88732a1",
   "metadata": {},
   "source": [
    "MEMISAHKAN DATA SEBAGA FITUR DAN TARGET"
   ]
  },
  {
   "cell_type": "code",
   "execution_count": 11,
   "id": "f4d3b4ea",
   "metadata": {},
   "outputs": [],
   "source": [
    "X = df_used.drop(\"categori\", axis = 1)\n",
    "y = df_used[\"categori\"]"
   ]
  },
  {
   "cell_type": "markdown",
   "id": "b7e1bd04-1e99-4dc8-a78b-432896c2d9a9",
   "metadata": {},
   "source": [
    "Memisahkan beberapa data maximum untuk tiap fitur"
   ]
  },
  {
   "cell_type": "code",
   "execution_count": 12,
   "id": "1d0d98ed-89b7-4180-91ba-7b32f7881ae7",
   "metadata": {},
   "outputs": [],
   "source": [
    "special_x = pd.concat([X[X[i] == X[i].max()] for i in X.columns])\n",
    "special_x.drop_duplicates(inplace = True)\n",
    "\n",
    "special_y = y[special_x.index]"
   ]
  },
  {
   "cell_type": "code",
   "execution_count": 13,
   "id": "4ef2c9e5-a4b5-4a53-8ee1-0a9cb2f3ad67",
   "metadata": {
    "scrolled": true
   },
   "outputs": [
    {
     "name": "stderr",
     "output_type": "stream",
     "text": [
      "C:\\Users\\rairi\\AppData\\Local\\Temp\\ipykernel_43956\\1193939168.py:2: SettingWithCopyWarning: \n",
      "A value is trying to be set on a copy of a slice from a DataFrame\n",
      "\n",
      "See the caveats in the documentation: https://pandas.pydata.org/pandas-docs/stable/user_guide/indexing.html#returning-a-view-versus-a-copy\n",
      "  y.drop(special_y.index, inplace = True)\n"
     ]
    }
   ],
   "source": [
    "X.drop(special_x.index, inplace = True)\n",
    "y.drop(special_y.index, inplace = True)"
   ]
  },
  {
   "cell_type": "markdown",
   "id": "add41c7e",
   "metadata": {},
   "source": [
    "MEMBAGI DATA 80% UNTUK TRAINING DAN 20% UNTUK TESTING"
   ]
  },
  {
   "cell_type": "code",
   "execution_count": 14,
   "id": "7e4cf83d",
   "metadata": {},
   "outputs": [],
   "source": [
    "from sklearn.model_selection import train_test_split"
   ]
  },
  {
   "cell_type": "code",
   "execution_count": 15,
   "id": "50c3a6c7",
   "metadata": {},
   "outputs": [],
   "source": [
    "X_train, X_test, y_train, y_test = train_test_split(X, y, random_state = 6)"
   ]
  },
  {
   "cell_type": "code",
   "execution_count": 16,
   "id": "0e24424b-3cbb-49ad-a653-af5b4633b381",
   "metadata": {},
   "outputs": [],
   "source": [
    "X_train = pd.concat([X_train, special_x])\n",
    "y_train = pd.concat([y_train, special_y])"
   ]
  },
  {
   "cell_type": "code",
   "execution_count": 17,
   "id": "0c26b68c",
   "metadata": {},
   "outputs": [
    {
     "name": "stdout",
     "output_type": "stream",
     "text": [
      "(6630, 7)\n",
      "(2208, 7)\n"
     ]
    }
   ],
   "source": [
    "print(X_train.shape)\n",
    "print(X_test.shape)"
   ]
  },
  {
   "cell_type": "code",
   "execution_count": 18,
   "id": "dcaed96d",
   "metadata": {},
   "outputs": [
    {
     "name": "stdout",
     "output_type": "stream",
     "text": [
      "categori\n",
      "SEDANG                4401\n",
      "BAIK                  1077\n",
      "TIDAK SEHAT           1038\n",
      "SANGAT TIDAK SEHAT     113\n",
      "BERBAHAYA                1\n",
      "Name: count, dtype: int64\n",
      "\n",
      "categori\n",
      "SEDANG                1471\n",
      "BAIK                   349\n",
      "TIDAK SEHAT            348\n",
      "SANGAT TIDAK SEHAT      40\n",
      "Name: count, dtype: int64\n"
     ]
    }
   ],
   "source": [
    "print(y_train.value_counts())\n",
    "print()\n",
    "print(y_test.value_counts())"
   ]
  },
  {
   "cell_type": "markdown",
   "id": "8823273b",
   "metadata": {},
   "source": [
    "MELAKUKAN PELATIHAN MODEL MACHINE LEARNING"
   ]
  },
  {
   "cell_type": "code",
   "execution_count": 19,
   "id": "ba1bf1f6",
   "metadata": {},
   "outputs": [
    {
     "data": {
      "text/html": [
       "<style>#sk-container-id-1 {color: black;}#sk-container-id-1 pre{padding: 0;}#sk-container-id-1 div.sk-toggleable {background-color: white;}#sk-container-id-1 label.sk-toggleable__label {cursor: pointer;display: block;width: 100%;margin-bottom: 0;padding: 0.3em;box-sizing: border-box;text-align: center;}#sk-container-id-1 label.sk-toggleable__label-arrow:before {content: \"▸\";float: left;margin-right: 0.25em;color: #696969;}#sk-container-id-1 label.sk-toggleable__label-arrow:hover:before {color: black;}#sk-container-id-1 div.sk-estimator:hover label.sk-toggleable__label-arrow:before {color: black;}#sk-container-id-1 div.sk-toggleable__content {max-height: 0;max-width: 0;overflow: hidden;text-align: left;background-color: #f0f8ff;}#sk-container-id-1 div.sk-toggleable__content pre {margin: 0.2em;color: black;border-radius: 0.25em;background-color: #f0f8ff;}#sk-container-id-1 input.sk-toggleable__control:checked~div.sk-toggleable__content {max-height: 200px;max-width: 100%;overflow: auto;}#sk-container-id-1 input.sk-toggleable__control:checked~label.sk-toggleable__label-arrow:before {content: \"▾\";}#sk-container-id-1 div.sk-estimator input.sk-toggleable__control:checked~label.sk-toggleable__label {background-color: #d4ebff;}#sk-container-id-1 div.sk-label input.sk-toggleable__control:checked~label.sk-toggleable__label {background-color: #d4ebff;}#sk-container-id-1 input.sk-hidden--visually {border: 0;clip: rect(1px 1px 1px 1px);clip: rect(1px, 1px, 1px, 1px);height: 1px;margin: -1px;overflow: hidden;padding: 0;position: absolute;width: 1px;}#sk-container-id-1 div.sk-estimator {font-family: monospace;background-color: #f0f8ff;border: 1px dotted black;border-radius: 0.25em;box-sizing: border-box;margin-bottom: 0.5em;}#sk-container-id-1 div.sk-estimator:hover {background-color: #d4ebff;}#sk-container-id-1 div.sk-parallel-item::after {content: \"\";width: 100%;border-bottom: 1px solid gray;flex-grow: 1;}#sk-container-id-1 div.sk-label:hover label.sk-toggleable__label {background-color: #d4ebff;}#sk-container-id-1 div.sk-serial::before {content: \"\";position: absolute;border-left: 1px solid gray;box-sizing: border-box;top: 0;bottom: 0;left: 50%;z-index: 0;}#sk-container-id-1 div.sk-serial {display: flex;flex-direction: column;align-items: center;background-color: white;padding-right: 0.2em;padding-left: 0.2em;position: relative;}#sk-container-id-1 div.sk-item {position: relative;z-index: 1;}#sk-container-id-1 div.sk-parallel {display: flex;align-items: stretch;justify-content: center;background-color: white;position: relative;}#sk-container-id-1 div.sk-item::before, #sk-container-id-1 div.sk-parallel-item::before {content: \"\";position: absolute;border-left: 1px solid gray;box-sizing: border-box;top: 0;bottom: 0;left: 50%;z-index: -1;}#sk-container-id-1 div.sk-parallel-item {display: flex;flex-direction: column;z-index: 1;position: relative;background-color: white;}#sk-container-id-1 div.sk-parallel-item:first-child::after {align-self: flex-end;width: 50%;}#sk-container-id-1 div.sk-parallel-item:last-child::after {align-self: flex-start;width: 50%;}#sk-container-id-1 div.sk-parallel-item:only-child::after {width: 0;}#sk-container-id-1 div.sk-dashed-wrapped {border: 1px dashed gray;margin: 0 0.4em 0.5em 0.4em;box-sizing: border-box;padding-bottom: 0.4em;background-color: white;}#sk-container-id-1 div.sk-label label {font-family: monospace;font-weight: bold;display: inline-block;line-height: 1.2em;}#sk-container-id-1 div.sk-label-container {text-align: center;}#sk-container-id-1 div.sk-container {/* jupyter's `normalize.less` sets `[hidden] { display: none; }` but bootstrap.min.css set `[hidden] { display: none !important; }` so we also need the `!important` here to be able to override the default hidden behavior on the sphinx rendered scikit-learn.org. See: https://github.com/scikit-learn/scikit-learn/issues/21755 */display: inline-block !important;position: relative;}#sk-container-id-1 div.sk-text-repr-fallback {display: none;}</style><div id=\"sk-container-id-1\" class=\"sk-top-container\"><div class=\"sk-text-repr-fallback\"><pre>CategoricalNB()</pre><b>In a Jupyter environment, please rerun this cell to show the HTML representation or trust the notebook. <br />On GitHub, the HTML representation is unable to render, please try loading this page with nbviewer.org.</b></div><div class=\"sk-container\" hidden><div class=\"sk-item\"><div class=\"sk-estimator sk-toggleable\"><input class=\"sk-toggleable__control sk-hidden--visually\" id=\"sk-estimator-id-1\" type=\"checkbox\" checked><label for=\"sk-estimator-id-1\" class=\"sk-toggleable__label sk-toggleable__label-arrow\">CategoricalNB</label><div class=\"sk-toggleable__content\"><pre>CategoricalNB()</pre></div></div></div></div></div>"
      ],
      "text/plain": [
       "CategoricalNB()"
      ]
     },
     "execution_count": 19,
     "metadata": {},
     "output_type": "execute_result"
    }
   ],
   "source": [
    "from sklearn.naive_bayes import CategoricalNB\n",
    "\n",
    "model = CategoricalNB()\n",
    "model.fit(X_train, y_train)"
   ]
  },
  {
   "cell_type": "markdown",
   "id": "4006e3b2",
   "metadata": {},
   "source": [
    "MELAKUKAN EVALUASI PERFORMA MODEL"
   ]
  },
  {
   "cell_type": "code",
   "execution_count": 20,
   "id": "d30339a8",
   "metadata": {},
   "outputs": [
    {
     "name": "stdout",
     "output_type": "stream",
     "text": [
      "                    precision    recall  f1-score   support\n",
      "\n",
      "              BAIK       0.99      1.00      1.00       349\n",
      "SANGAT TIDAK SEHAT       0.94      0.72      0.82        40\n",
      "            SEDANG       1.00      1.00      1.00      1471\n",
      "       TIDAK SEHAT       0.98      0.99      0.99       348\n",
      "\n",
      "          accuracy                           0.99      2208\n",
      "         macro avg       0.98      0.93      0.95      2208\n",
      "      weighted avg       0.99      0.99      0.99      2208\n",
      "\n"
     ]
    }
   ],
   "source": [
    "from sklearn.metrics import classification_report\n",
    "\n",
    "print(classification_report(y_test, model.predict(X_test)))"
   ]
  },
  {
   "cell_type": "markdown",
   "id": "d59c37ef",
   "metadata": {},
   "source": [
    "PREDIKSI SEMUA DATA"
   ]
  },
  {
   "cell_type": "code",
   "execution_count": 21,
   "id": "f56abd04",
   "metadata": {
    "scrolled": true
   },
   "outputs": [
    {
     "name": "stderr",
     "output_type": "stream",
     "text": [
      "C:\\Users\\rairi\\AppData\\Local\\Temp\\ipykernel_43956\\3851407967.py:1: SettingWithCopyWarning: \n",
      "A value is trying to be set on a copy of a slice from a DataFrame.\n",
      "Try using .loc[row_indexer,col_indexer] = value instead\n",
      "\n",
      "See the caveats in the documentation: https://pandas.pydata.org/pandas-docs/stable/user_guide/indexing.html#returning-a-view-versus-a-copy\n",
      "  df_used[\"prediksi\"] = model.predict(df_used[[\"pm10\", \"pm25\", \"so2\", \"co\", \"o3\", \"no2\", \"max\"]])\n"
     ]
    },
    {
     "data": {
      "text/html": [
       "<div>\n",
       "<style scoped>\n",
       "    .dataframe tbody tr th:only-of-type {\n",
       "        vertical-align: middle;\n",
       "    }\n",
       "\n",
       "    .dataframe tbody tr th {\n",
       "        vertical-align: top;\n",
       "    }\n",
       "\n",
       "    .dataframe thead th {\n",
       "        text-align: right;\n",
       "    }\n",
       "</style>\n",
       "<table border=\"1\" class=\"dataframe\">\n",
       "  <thead>\n",
       "    <tr style=\"text-align: right;\">\n",
       "      <th></th>\n",
       "      <th>pm10</th>\n",
       "      <th>pm25</th>\n",
       "      <th>so2</th>\n",
       "      <th>co</th>\n",
       "      <th>o3</th>\n",
       "      <th>no2</th>\n",
       "      <th>max</th>\n",
       "      <th>categori</th>\n",
       "      <th>prediksi</th>\n",
       "    </tr>\n",
       "  </thead>\n",
       "  <tbody>\n",
       "    <tr>\n",
       "      <th>0</th>\n",
       "      <td>60.0</td>\n",
       "      <td>53.0</td>\n",
       "      <td>4.0</td>\n",
       "      <td>73.0</td>\n",
       "      <td>27.0</td>\n",
       "      <td>14.0</td>\n",
       "      <td>73.0</td>\n",
       "      <td>SEDANG</td>\n",
       "      <td>SEDANG</td>\n",
       "    </tr>\n",
       "    <tr>\n",
       "      <th>1</th>\n",
       "      <td>32.0</td>\n",
       "      <td>25.0</td>\n",
       "      <td>2.0</td>\n",
       "      <td>16.0</td>\n",
       "      <td>33.0</td>\n",
       "      <td>9.0</td>\n",
       "      <td>33.0</td>\n",
       "      <td>BAIK</td>\n",
       "      <td>BAIK</td>\n",
       "    </tr>\n",
       "    <tr>\n",
       "      <th>2</th>\n",
       "      <td>27.0</td>\n",
       "      <td>18.0</td>\n",
       "      <td>2.0</td>\n",
       "      <td>19.0</td>\n",
       "      <td>20.0</td>\n",
       "      <td>9.0</td>\n",
       "      <td>27.0</td>\n",
       "      <td>BAIK</td>\n",
       "      <td>BAIK</td>\n",
       "    </tr>\n",
       "    <tr>\n",
       "      <th>3</th>\n",
       "      <td>22.0</td>\n",
       "      <td>17.0</td>\n",
       "      <td>2.0</td>\n",
       "      <td>16.0</td>\n",
       "      <td>15.0</td>\n",
       "      <td>6.0</td>\n",
       "      <td>22.0</td>\n",
       "      <td>BAIK</td>\n",
       "      <td>BAIK</td>\n",
       "    </tr>\n",
       "    <tr>\n",
       "      <th>4</th>\n",
       "      <td>25.0</td>\n",
       "      <td>17.0</td>\n",
       "      <td>2.0</td>\n",
       "      <td>17.0</td>\n",
       "      <td>15.0</td>\n",
       "      <td>8.0</td>\n",
       "      <td>25.0</td>\n",
       "      <td>BAIK</td>\n",
       "      <td>BAIK</td>\n",
       "    </tr>\n",
       "    <tr>\n",
       "      <th>...</th>\n",
       "      <td>...</td>\n",
       "      <td>...</td>\n",
       "      <td>...</td>\n",
       "      <td>...</td>\n",
       "      <td>...</td>\n",
       "      <td>...</td>\n",
       "      <td>...</td>\n",
       "      <td>...</td>\n",
       "      <td>...</td>\n",
       "    </tr>\n",
       "    <tr>\n",
       "      <th>10107</th>\n",
       "      <td>60.0</td>\n",
       "      <td>53.0</td>\n",
       "      <td>21.0</td>\n",
       "      <td>15.0</td>\n",
       "      <td>19.0</td>\n",
       "      <td>13.0</td>\n",
       "      <td>60.0</td>\n",
       "      <td>SEDANG</td>\n",
       "      <td>SEDANG</td>\n",
       "    </tr>\n",
       "    <tr>\n",
       "      <th>10109</th>\n",
       "      <td>53.0</td>\n",
       "      <td>75.0</td>\n",
       "      <td>25.0</td>\n",
       "      <td>15.0</td>\n",
       "      <td>23.0</td>\n",
       "      <td>44.0</td>\n",
       "      <td>75.0</td>\n",
       "      <td>SEDANG</td>\n",
       "      <td>SEDANG</td>\n",
       "    </tr>\n",
       "    <tr>\n",
       "      <th>10110</th>\n",
       "      <td>62.0</td>\n",
       "      <td>85.0</td>\n",
       "      <td>52.0</td>\n",
       "      <td>23.0</td>\n",
       "      <td>20.0</td>\n",
       "      <td>14.0</td>\n",
       "      <td>85.0</td>\n",
       "      <td>SEDANG</td>\n",
       "      <td>SEDANG</td>\n",
       "    </tr>\n",
       "    <tr>\n",
       "      <th>10111</th>\n",
       "      <td>61.0</td>\n",
       "      <td>85.0</td>\n",
       "      <td>33.0</td>\n",
       "      <td>23.0</td>\n",
       "      <td>37.0</td>\n",
       "      <td>44.0</td>\n",
       "      <td>85.0</td>\n",
       "      <td>SEDANG</td>\n",
       "      <td>SEDANG</td>\n",
       "    </tr>\n",
       "    <tr>\n",
       "      <th>10114</th>\n",
       "      <td>60.0</td>\n",
       "      <td>87.0</td>\n",
       "      <td>28.0</td>\n",
       "      <td>19.0</td>\n",
       "      <td>30.0</td>\n",
       "      <td>53.0</td>\n",
       "      <td>87.0</td>\n",
       "      <td>SEDANG</td>\n",
       "      <td>SEDANG</td>\n",
       "    </tr>\n",
       "  </tbody>\n",
       "</table>\n",
       "<p>8838 rows × 9 columns</p>\n",
       "</div>"
      ],
      "text/plain": [
       "       pm10  pm25   so2    co    o3   no2   max categori prediksi\n",
       "0      60.0  53.0   4.0  73.0  27.0  14.0  73.0   SEDANG   SEDANG\n",
       "1      32.0  25.0   2.0  16.0  33.0   9.0  33.0     BAIK     BAIK\n",
       "2      27.0  18.0   2.0  19.0  20.0   9.0  27.0     BAIK     BAIK\n",
       "3      22.0  17.0   2.0  16.0  15.0   6.0  22.0     BAIK     BAIK\n",
       "4      25.0  17.0   2.0  17.0  15.0   8.0  25.0     BAIK     BAIK\n",
       "...     ...   ...   ...   ...   ...   ...   ...      ...      ...\n",
       "10107  60.0  53.0  21.0  15.0  19.0  13.0  60.0   SEDANG   SEDANG\n",
       "10109  53.0  75.0  25.0  15.0  23.0  44.0  75.0   SEDANG   SEDANG\n",
       "10110  62.0  85.0  52.0  23.0  20.0  14.0  85.0   SEDANG   SEDANG\n",
       "10111  61.0  85.0  33.0  23.0  37.0  44.0  85.0   SEDANG   SEDANG\n",
       "10114  60.0  87.0  28.0  19.0  30.0  53.0  87.0   SEDANG   SEDANG\n",
       "\n",
       "[8838 rows x 9 columns]"
      ]
     },
     "execution_count": 21,
     "metadata": {},
     "output_type": "execute_result"
    }
   ],
   "source": [
    "df_used[\"prediksi\"] = model.predict(df_used[[\"pm10\", \"pm25\", \"so2\", \"co\", \"o3\", \"no2\", \"max\"]])\n",
    "\n",
    "df_used"
   ]
  },
  {
   "cell_type": "markdown",
   "id": "3a73e06d",
   "metadata": {},
   "source": [
    "FUNGSI UNTUK INPUT DATA"
   ]
  },
  {
   "cell_type": "code",
   "execution_count": 22,
   "id": "67553fac",
   "metadata": {},
   "outputs": [],
   "source": [
    "def predictThisData(data, model) :\n",
    "    inputData = {X.columns[i] : [data[i]] for i in range(X.shape[1])}\n",
    "    dfs = pd.DataFrame(inputData)\n",
    "    \n",
    "    return model.predict(dfs)[-1]"
   ]
  },
  {
   "cell_type": "code",
   "execution_count": 23,
   "id": "bf7a8c5b",
   "metadata": {},
   "outputs": [
    {
     "data": {
      "text/plain": [
       "'BAIK'"
      ]
     },
     "execution_count": 23,
     "metadata": {},
     "output_type": "execute_result"
    }
   ],
   "source": [
    "predictThisData([24,35,12,17,20,12,35], model)"
   ]
  },
  {
   "cell_type": "markdown",
   "id": "2df73909",
   "metadata": {},
   "source": [
    "Export Model dan Data Train ke pickle file"
   ]
  },
  {
   "cell_type": "code",
   "execution_count": 24,
   "id": "1f6da782",
   "metadata": {},
   "outputs": [],
   "source": [
    "import pickle\n",
    "\n",
    "pickle.dump(X, open('../../../model/ml/classification/train.pkl', 'wb'))\n",
    "pickle.dump(model, open('../../../model/ml/classification/model.pkl', 'wb'))\n"
   ]
  }
 ],
 "metadata": {
  "kernelspec": {
   "display_name": "Python 3 (ipykernel)",
   "language": "python",
   "name": "python3"
  },
  "language_info": {
   "codemirror_mode": {
    "name": "ipython",
    "version": 3
   },
   "file_extension": ".py",
   "mimetype": "text/x-python",
   "name": "python",
   "nbconvert_exporter": "python",
   "pygments_lexer": "ipython3",
   "version": "3.11.5"
  }
 },
 "nbformat": 4,
 "nbformat_minor": 5
}
